{
 "cells": [
  {
   "cell_type": "code",
   "execution_count": null,
   "id": "624bf96c-b6b9-4321-8387-e1649c0e1f41",
   "metadata": {},
   "outputs": [],
   "source": []
  }
 ],
 "metadata": {
  "kernelspec": {
   "display_name": "",
   "name": ""
  },
  "language_info": {
   "name": ""
  }
 },
 "nbformat": 4,
 "nbformat_minor": 5
}
