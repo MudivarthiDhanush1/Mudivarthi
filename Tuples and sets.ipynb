{
 "cells": [
  {
   "cell_type": "markdown",
   "id": "8fb469af-efb4-46cc-a444-8c7f3053a59f",
   "metadata": {},
   "source": [
    "### indexing in tuple is possible but not in set\n",
    "### must in ()\n",
    "### if u want to append the tuple we cannot do it directly.so,first we convert tuple into list and perform the append or any other functions and then convert the list into tuple\n"
   ]
  },
  {
   "cell_type": "code",
   "execution_count": 3,
   "id": "29f60dbc-eb23-41a1-ac26-1b3fc5e4e6fb",
   "metadata": {},
   "outputs": [
    {
     "data": {
      "text/plain": [
       "tuple"
      ]
     },
     "execution_count": 3,
     "metadata": {},
     "output_type": "execute_result"
    }
   ],
   "source": [
    "t=(10,20,30,40,50,60)\n",
    "type(t)"
   ]
  },
  {
   "cell_type": "code",
   "execution_count": 59,
   "id": "cf9080ce-4e80-4eba-8658-d5c4f8d76b5c",
   "metadata": {},
   "outputs": [
    {
     "data": {
      "text/plain": [
       "1"
      ]
     },
     "execution_count": 59,
     "metadata": {},
     "output_type": "execute_result"
    }
   ],
   "source": [
    "t.index(20)\n"
   ]
  },
  {
   "cell_type": "code",
   "execution_count": null,
   "id": "4d52bd82-28af-44af-80e8-13007b4ae30b",
   "metadata": {},
   "outputs": [],
   "source": [
    "t."
   ]
  },
  {
   "cell_type": "code",
   "execution_count": 51,
   "id": "a1eecfdf-0403-4e09-8ce0-1ba076dfee6d",
   "metadata": {},
   "outputs": [
    {
     "data": {
      "text/plain": [
       "[10, 20, 30, 40, 50, 60]"
      ]
     },
     "execution_count": 51,
     "metadata": {},
     "output_type": "execute_result"
    }
   ],
   "source": [
    "d=list(t)\n",
    "d"
   ]
  },
  {
   "cell_type": "code",
   "execution_count": 53,
   "id": "762320e3-bec5-4bff-9bbc-2eeae205002f",
   "metadata": {},
   "outputs": [
    {
     "data": {
      "text/plain": [
       "[10, 20, 30, 40, 50, 60, 70]"
      ]
     },
     "execution_count": 53,
     "metadata": {},
     "output_type": "execute_result"
    }
   ],
   "source": [
    "d.append(70)\n",
    "d"
   ]
  },
  {
   "cell_type": "code",
   "execution_count": 55,
   "id": "aa13bc72-5923-4d5e-9bce-c69e20b1e411",
   "metadata": {},
   "outputs": [
    {
     "data": {
      "text/plain": [
       "(10, 20, 30, 40, 50, 60, 70)"
      ]
     },
     "execution_count": 55,
     "metadata": {},
     "output_type": "execute_result"
    }
   ],
   "source": [
    "t=tuple(d)\n",
    "t"
   ]
  },
  {
   "cell_type": "markdown",
   "id": "857bfdb1-8021-447d-a27f-c46b2976bc56",
   "metadata": {},
   "source": [
    "### for the set in python we have discard,add,remove,update functions\n",
    "### we can perform union,intersection,difference,symmetric_difference in two sets\n",
    "### accessing the values of set through indexing is not possible"
   ]
  },
  {
   "cell_type": "code",
   "execution_count": 9,
   "id": "b18c4531-f623-4237-b459-fa63a03f7cea",
   "metadata": {},
   "outputs": [
    {
     "data": {
      "text/plain": [
       "set"
      ]
     },
     "execution_count": 9,
     "metadata": {},
     "output_type": "execute_result"
    }
   ],
   "source": [
    "s={5,15,25,35,45,55,65,75}\n",
    "type(s)"
   ]
  },
  {
   "cell_type": "code",
   "execution_count": 13,
   "id": "e2aa7ef0-3681-45ff-a9fa-467b96f98ff9",
   "metadata": {},
   "outputs": [
    {
     "data": {
      "text/plain": [
       "{5, 15, 25, 35, 45, 55, 65, 75, 85}"
      ]
     },
     "execution_count": 13,
     "metadata": {},
     "output_type": "execute_result"
    }
   ],
   "source": [
    "s.add(85)\n",
    "s"
   ]
  },
  {
   "cell_type": "code",
   "execution_count": 15,
   "id": "3fd98ea6-557b-40cc-a7bc-89505e30ef0f",
   "metadata": {},
   "outputs": [
    {
     "data": {
      "text/plain": [
       "{5, 15, 25, 35, 45, 65, 75, 85}"
      ]
     },
     "execution_count": 15,
     "metadata": {},
     "output_type": "execute_result"
    }
   ],
   "source": [
    "s.remove(55)\n",
    "s"
   ]
  },
  {
   "cell_type": "code",
   "execution_count": 17,
   "id": "1ee4053f-0c0a-4d40-9e23-ff60cb91516d",
   "metadata": {},
   "outputs": [
    {
     "data": {
      "text/plain": [
       "{15, 25, 35, 45, 65, 75, 85}"
      ]
     },
     "execution_count": 17,
     "metadata": {},
     "output_type": "execute_result"
    }
   ],
   "source": [
    "s.discard(5)\n",
    "s"
   ]
  },
  {
   "cell_type": "code",
   "execution_count": 31,
   "id": "7ce9bc4d-b29a-4802-a8e9-91c90d73d3a2",
   "metadata": {},
   "outputs": [
    {
     "data": {
      "text/plain": [
       "{15, 25, 35, 45, 65, 75, 85}"
      ]
     },
     "execution_count": 31,
     "metadata": {},
     "output_type": "execute_result"
    }
   ],
   "source": [
    "s"
   ]
  },
  {
   "cell_type": "code",
   "execution_count": 25,
   "id": "eceae1f3-0373-4a15-8520-701de7afe3ca",
   "metadata": {},
   "outputs": [
    {
     "data": {
      "text/plain": [
       "{25, 45, 75, 95, 100, 105}"
      ]
     },
     "execution_count": 25,
     "metadata": {},
     "output_type": "execute_result"
    }
   ],
   "source": [
    "y={25,45,75,95,100,105}\n",
    "y"
   ]
  },
  {
   "cell_type": "code",
   "execution_count": 67,
   "id": "908b78b3-b03f-470a-9a8b-77948005ef30",
   "metadata": {},
   "outputs": [
    {
     "data": {
      "text/plain": [
       "{15, 35, 65, 85}"
      ]
     },
     "execution_count": 67,
     "metadata": {},
     "output_type": "execute_result"
    }
   ],
   "source": [
    "s.difference(y) "
   ]
  },
  {
   "cell_type": "code",
   "execution_count": 69,
   "id": "fa2ccea0-4566-44ed-b631-65736d917c41",
   "metadata": {},
   "outputs": [
    {
     "data": {
      "text/plain": [
       "{95, 100, 105}"
      ]
     },
     "execution_count": 69,
     "metadata": {},
     "output_type": "execute_result"
    }
   ],
   "source": [
    "y.difference(s) "
   ]
  },
  {
   "cell_type": "code",
   "execution_count": 33,
   "id": "73fa56a3-7aed-492f-b939-2d303b6a5175",
   "metadata": {},
   "outputs": [
    {
     "data": {
      "text/plain": [
       "{15, 25, 35, 45, 65, 75, 85, 95, 100, 105}"
      ]
     },
     "execution_count": 33,
     "metadata": {},
     "output_type": "execute_result"
    }
   ],
   "source": [
    "s.union(y)"
   ]
  },
  {
   "cell_type": "code",
   "execution_count": 35,
   "id": "bec986a4-ff21-4a76-8e96-3234644050df",
   "metadata": {},
   "outputs": [
    {
     "data": {
      "text/plain": [
       "{15, 25, 35, 45, 65, 75, 85, 95, 100, 105}"
      ]
     },
     "execution_count": 35,
     "metadata": {},
     "output_type": "execute_result"
    }
   ],
   "source": [
    "y.union(s)"
   ]
  },
  {
   "cell_type": "code",
   "execution_count": 37,
   "id": "c01196ec-1509-4eed-9d48-0589d3fe24c6",
   "metadata": {},
   "outputs": [
    {
     "data": {
      "text/plain": [
       "{15, 35, 65, 85, 95, 100, 105}"
      ]
     },
     "execution_count": 37,
     "metadata": {},
     "output_type": "execute_result"
    }
   ],
   "source": [
    "s.symmetric_difference(y)"
   ]
  },
  {
   "cell_type": "code",
   "execution_count": 39,
   "id": "82692cee-25b0-4d70-9cce-ad8c0cc7cee6",
   "metadata": {},
   "outputs": [
    {
     "data": {
      "text/plain": [
       "{15, 35, 65, 85, 95, 100, 105}"
      ]
     },
     "execution_count": 39,
     "metadata": {},
     "output_type": "execute_result"
    }
   ],
   "source": [
    "y.symmetric_difference(s)"
   ]
  },
  {
   "cell_type": "code",
   "execution_count": 61,
   "id": "a2377c2d-ef83-41bf-8b83-042fe1347541",
   "metadata": {},
   "outputs": [
    {
     "data": {
      "text/plain": [
       "{25, 45, 75}"
      ]
     },
     "execution_count": 61,
     "metadata": {},
     "output_type": "execute_result"
    }
   ],
   "source": [
    "s.intersection(y)"
   ]
  },
  {
   "cell_type": "code",
   "execution_count": 63,
   "id": "45b2439c-eada-4941-a12a-25bad9154d29",
   "metadata": {},
   "outputs": [
    {
     "data": {
      "text/plain": [
       "{25, 45, 75}"
      ]
     },
     "execution_count": 63,
     "metadata": {},
     "output_type": "execute_result"
    }
   ],
   "source": [
    "y.intersection(s)"
   ]
  },
  {
   "cell_type": "code",
   "execution_count": null,
   "id": "b3b9746c-0002-418f-8c73-4462fc1cfa43",
   "metadata": {},
   "outputs": [],
   "source": []
  }
 ],
 "metadata": {
  "kernelspec": {
   "display_name": "Python [conda env:base] *",
   "language": "python",
   "name": "conda-base-py"
  },
  "language_info": {
   "codemirror_mode": {
    "name": "ipython",
    "version": 3
   },
   "file_extension": ".py",
   "mimetype": "text/x-python",
   "name": "python",
   "nbconvert_exporter": "python",
   "pygments_lexer": "ipython3",
   "version": "3.12.7"
  }
 },
 "nbformat": 4,
 "nbformat_minor": 5
}
