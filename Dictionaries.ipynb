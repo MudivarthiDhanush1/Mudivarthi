{
 "cells": [
  {
   "cell_type": "markdown",
   "id": "eced460b-ca69-46d1-8225-3d3838707f00",
   "metadata": {},
   "source": [
    "### Dictionary is the collection of key-value pairs in curly braces\n",
    "### It is mutable\n",
    "### You can access values by using keys which are assigned to the values\n",
    "### We can change the values \n",
    "### Same keys cannot be assigned the values but same values can be assigned to the keys\n",
    "### You can directly update the values or u can update by using update function\n",
    "### We can give many values to a single key"
   ]
  },
  {
   "cell_type": "code",
   "execution_count": 1,
   "id": "d3830850-99e4-43a6-9f86-6c9fa3ffac4a",
   "metadata": {},
   "outputs": [
    {
     "data": {
      "text/plain": [
       "{'a': 1, 'b': 2, 'c': 3}"
      ]
     },
     "execution_count": 1,
     "metadata": {},
     "output_type": "execute_result"
    }
   ],
   "source": [
    "d={'a': 1, 'b': 2, 'c': 3}\n",
    "d"
   ]
  },
  {
   "cell_type": "code",
   "execution_count": 3,
   "id": "d8083be1-e491-432b-b29d-485e59481eb1",
   "metadata": {},
   "outputs": [
    {
     "data": {
      "text/plain": [
       "dict"
      ]
     },
     "execution_count": 3,
     "metadata": {},
     "output_type": "execute_result"
    }
   ],
   "source": [
    "type(d)"
   ]
  },
  {
   "cell_type": "code",
   "execution_count": 22,
   "id": "dfccfb71-a0c4-450f-9829-4e23ae6f6b00",
   "metadata": {},
   "outputs": [
    {
     "data": {
      "text/plain": [
       "{'a': 1, 'b': 95, 'c': 3}"
      ]
     },
     "execution_count": 22,
     "metadata": {},
     "output_type": "execute_result"
    }
   ],
   "source": [
    "d.update({'b': 95})\n",
    "d"
   ]
  },
  {
   "cell_type": "code",
   "execution_count": 34,
   "id": "435b3216-8923-4d8b-8bc3-4dc0170e039d",
   "metadata": {},
   "outputs": [
    {
     "data": {
      "text/plain": [
       "{'a': 1, 'b': 95, 'c': 5000000}"
      ]
     },
     "execution_count": 34,
     "metadata": {},
     "output_type": "execute_result"
    }
   ],
   "source": [
    "d.update({'c': 5000000})\n",
    "d"
   ]
  },
  {
   "cell_type": "code",
   "execution_count": 102,
   "id": "42e603a5-af98-4445-8a97-b170b2f00249",
   "metadata": {},
   "outputs": [
    {
     "data": {
      "text/plain": [
       "{1: 10, 2: 20, 3: 30, 4: 40, 5: 50}"
      ]
     },
     "execution_count": 102,
     "metadata": {},
     "output_type": "execute_result"
    }
   ],
   "source": [
    "e={ 1: 10,2: 20,3: 30,4: 40,5: 50}\n",
    "e"
   ]
  },
  {
   "cell_type": "code",
   "execution_count": 104,
   "id": "88c04015-3103-4435-8b2b-031b55ebd699",
   "metadata": {},
   "outputs": [
    {
     "data": {
      "text/plain": [
       "10"
      ]
     },
     "execution_count": 104,
     "metadata": {},
     "output_type": "execute_result"
    }
   ],
   "source": [
    "e[1]"
   ]
  },
  {
   "cell_type": "code",
   "execution_count": 106,
   "id": "a8aac2b8-0652-4aef-8874-deda5c16d94c",
   "metadata": {},
   "outputs": [
    {
     "data": {
      "text/plain": [
       "{1: 10, 2: 20, 3: 400, 4: 40, 5: 50}"
      ]
     },
     "execution_count": 106,
     "metadata": {},
     "output_type": "execute_result"
    }
   ],
   "source": [
    "e.update({3: 400})\n",
    "e"
   ]
  },
  {
   "cell_type": "code",
   "execution_count": 108,
   "id": "9b5fae16-58e5-47e4-b7ea-137e2bc177a3",
   "metadata": {},
   "outputs": [
    {
     "data": {
      "text/plain": [
       "{1: 10, 3: 400, 4: 40, 5: 50}"
      ]
     },
     "execution_count": 108,
     "metadata": {},
     "output_type": "execute_result"
    }
   ],
   "source": [
    "del e[2]\n",
    "e"
   ]
  },
  {
   "cell_type": "code",
   "execution_count": 110,
   "id": "9ccc2f5d-8596-435c-abf0-7e98a19a1ded",
   "metadata": {},
   "outputs": [
    {
     "data": {
      "text/plain": [
       "{1: 40, 3: 400, 4: 40, 5: 50}"
      ]
     },
     "execution_count": 110,
     "metadata": {},
     "output_type": "execute_result"
    }
   ],
   "source": [
    "e[1]=40\n",
    "e"
   ]
  },
  {
   "cell_type": "code",
   "execution_count": 112,
   "id": "db8f3b57-72f3-4469-9bb8-50a2cd429fab",
   "metadata": {},
   "outputs": [
    {
     "data": {
      "text/plain": [
       "{1: [100, 200, 300], 3: 400, 4: 40, 5: 50}"
      ]
     },
     "execution_count": 112,
     "metadata": {},
     "output_type": "execute_result"
    }
   ],
   "source": [
    "e[1]= [100,200,300]\n",
    "e"
   ]
  },
  {
   "cell_type": "code",
   "execution_count": 114,
   "id": "08b518b2-a0b3-46fc-bcde-d71a770e3011",
   "metadata": {},
   "outputs": [
    {
     "data": {
      "text/plain": [
       "[100]"
      ]
     },
     "execution_count": 114,
     "metadata": {},
     "output_type": "execute_result"
    }
   ],
   "source": [
    "e[1][0:1]\n"
   ]
  },
  {
   "cell_type": "code",
   "execution_count": 116,
   "id": "3c03ec41-1717-4466-a286-18dc05ecf519",
   "metadata": {},
   "outputs": [
    {
     "data": {
      "text/plain": [
       "[100, 200]"
      ]
     },
     "execution_count": 116,
     "metadata": {},
     "output_type": "execute_result"
    }
   ],
   "source": [
    "e[1][0:2]"
   ]
  },
  {
   "cell_type": "code",
   "execution_count": 118,
   "id": "2a66bde1-f197-4f8d-a33f-d35fa99a96e7",
   "metadata": {},
   "outputs": [
    {
     "data": {
      "text/plain": [
       "list"
      ]
     },
     "execution_count": 118,
     "metadata": {},
     "output_type": "execute_result"
    }
   ],
   "source": [
    "type(e[1])"
   ]
  },
  {
   "cell_type": "code",
   "execution_count": 120,
   "id": "587c4a22-13aa-4f60-bea3-84f521830e0a",
   "metadata": {},
   "outputs": [
    {
     "data": {
      "text/plain": [
       "int"
      ]
     },
     "execution_count": 120,
     "metadata": {},
     "output_type": "execute_result"
    }
   ],
   "source": [
    "type(e[3])"
   ]
  },
  {
   "cell_type": "code",
   "execution_count": 122,
   "id": "8752935d-b4bd-46a0-a60b-adecc8083798",
   "metadata": {},
   "outputs": [
    {
     "data": {
      "text/plain": [
       "400"
      ]
     },
     "execution_count": 122,
     "metadata": {},
     "output_type": "execute_result"
    }
   ],
   "source": [
    "e[3]"
   ]
  },
  {
   "cell_type": "code",
   "execution_count": 124,
   "id": "94defe63-1556-4657-b6a8-b5f4739be572",
   "metadata": {},
   "outputs": [],
   "source": [
    "e[1].append(20000)"
   ]
  },
  {
   "cell_type": "code",
   "execution_count": 126,
   "id": "dfe7cae3-1fce-460c-81b5-bb193f8951c2",
   "metadata": {},
   "outputs": [
    {
     "data": {
      "text/plain": [
       "{1: [100, 200, 300, 20000], 3: 400, 4: 40, 5: 50}"
      ]
     },
     "execution_count": 126,
     "metadata": {},
     "output_type": "execute_result"
    }
   ],
   "source": [
    "e"
   ]
  },
  {
   "cell_type": "code",
   "execution_count": 128,
   "id": "3f85f051-9fdb-4525-9090-6078970bea85",
   "metadata": {},
   "outputs": [
    {
     "data": {
      "text/plain": [
       "[100, 200, 300, 20000]"
      ]
     },
     "execution_count": 128,
     "metadata": {},
     "output_type": "execute_result"
    }
   ],
   "source": [
    "e[1]"
   ]
  },
  {
   "cell_type": "code",
   "execution_count": 130,
   "id": "af10241f-ad9e-4c61-bcf8-77e3499b2df4",
   "metadata": {},
   "outputs": [
    {
     "data": {
      "text/plain": [
       "400"
      ]
     },
     "execution_count": 130,
     "metadata": {},
     "output_type": "execute_result"
    }
   ],
   "source": [
    "e[3]"
   ]
  },
  {
   "cell_type": "code",
   "execution_count": 132,
   "id": "9e70c362-be5c-4855-acd0-43cf46abdfb0",
   "metadata": {},
   "outputs": [
    {
     "data": {
      "text/plain": [
       "{1: [100, 200, 300, 20000], 3: (5, 10, 15, 20), 4: 40, 5: 50}"
      ]
     },
     "execution_count": 132,
     "metadata": {},
     "output_type": "execute_result"
    }
   ],
   "source": [
    "e[3]=(5,10,15,20)\n",
    "e"
   ]
  },
  {
   "cell_type": "code",
   "execution_count": 134,
   "id": "ccb27783-d8e8-4435-8241-9c79b778b61b",
   "metadata": {},
   "outputs": [
    {
     "data": {
      "text/plain": [
       "set"
      ]
     },
     "execution_count": 134,
     "metadata": {},
     "output_type": "execute_result"
    }
   ],
   "source": [
    "type({3})"
   ]
  },
  {
   "cell_type": "code",
   "execution_count": 136,
   "id": "a9695eef-6cc2-409e-b560-660dee4d6436",
   "metadata": {},
   "outputs": [
    {
     "data": {
      "text/plain": [
       "{1: [100, 200, 300, 20000], 3: (5, 10, 15, 20), 4: 40, 5: 50}"
      ]
     },
     "execution_count": 136,
     "metadata": {},
     "output_type": "execute_result"
    }
   ],
   "source": [
    "e"
   ]
  },
  {
   "cell_type": "code",
   "execution_count": 157,
   "id": "4a6182d3-3969-4a68-ac10-2a799696a5c1",
   "metadata": {},
   "outputs": [
    {
     "data": {
      "text/plain": [
       "{1: [100, 200, 300, 20000],\n",
       " 3: (5, 10, 15, 20),\n",
       " 4: 40,\n",
       " 5: {'l': ('a', 'b', 'c', 'd', [900, 9000]), 'm': ('x', 'y', [999, 888, 777])}}"
      ]
     },
     "execution_count": 157,
     "metadata": {},
     "output_type": "execute_result"
    }
   ],
   "source": [
    "e[5]={'l': ('a','b','c','d',[900,9000]),'m': ('x','y',[999,888,777])}\n",
    "e"
   ]
  },
  {
   "cell_type": "code",
   "execution_count": 159,
   "id": "b768f55a-0362-45fd-9cd7-2b1b36cbdb0a",
   "metadata": {},
   "outputs": [
    {
     "data": {
      "text/plain": [
       "{'l': ('a', 'b', 'c', 'd', [900, 9000]), 'm': ('x', 'y', [999, 888, 777])}"
      ]
     },
     "execution_count": 159,
     "metadata": {},
     "output_type": "execute_result"
    }
   ],
   "source": [
    "e[5]"
   ]
  },
  {
   "cell_type": "code",
   "execution_count": 163,
   "id": "9dbc81cb-5f25-4e9a-9d26-53d4086b42df",
   "metadata": {},
   "outputs": [
    {
     "data": {
      "text/plain": [
       "[999, 888, 777]"
      ]
     },
     "execution_count": 163,
     "metadata": {},
     "output_type": "execute_result"
    }
   ],
   "source": [
    "e[5]['m'][2]"
   ]
  },
  {
   "cell_type": "code",
   "execution_count": 165,
   "id": "7e0e8891-c28f-4298-8760-0180d0ac2bc0",
   "metadata": {},
   "outputs": [
    {
     "data": {
      "text/plain": [
       "'x'"
      ]
     },
     "execution_count": 165,
     "metadata": {},
     "output_type": "execute_result"
    }
   ],
   "source": [
    "e[5]['m'][0]"
   ]
  },
  {
   "cell_type": "code",
   "execution_count": null,
   "id": "9ef361d6-a1aa-47c8-84d0-084ba36315bb",
   "metadata": {},
   "outputs": [],
   "source": []
  }
 ],
 "metadata": {
  "kernelspec": {
   "display_name": "Python [conda env:base] *",
   "language": "python",
   "name": "conda-base-py"
  },
  "language_info": {
   "codemirror_mode": {
    "name": "ipython",
    "version": 3
   },
   "file_extension": ".py",
   "mimetype": "text/x-python",
   "name": "python",
   "nbconvert_exporter": "python",
   "pygments_lexer": "ipython3",
   "version": "3.12.7"
  }
 },
 "nbformat": 4,
 "nbformat_minor": 5
}
